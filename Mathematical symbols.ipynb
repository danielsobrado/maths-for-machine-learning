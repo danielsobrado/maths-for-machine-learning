{
 "cells": [
  {
   "cell_type": "markdown",
   "metadata": {},
   "source": [
    "# Mathematical Symbols and Notation for Machine Learning\n",
    "## A Comprehensive Reference Guide\n",
    "\n",
    "Welcome to your complete guide to mathematical symbols and notation used in machine learning! This notebook serves as a quick reference for understanding the mathematical language that powers AI and data science.\n",
    "\n",
    "### What You'll Find Here:\n",
    "1. **Number Systems** - Different types of numbers and their domains\n",
    "2. **Set Theory** - Collections, unions, intersections, and more\n",
    "3. **Linear Algebra** - Vectors, matrices, and operations\n",
    "4. **Calculus Notation** - Derivatives, integrals, and limits\n",
    "5. **Probability & Statistics** - Distributions, expectations, and variance\n",
    "6. **Logic & Boolean Algebra** - Logical operators and truth values\n",
    "7. **Optimization** - Minimization, maximization, and constraints\n",
    "8. **Special Functions** - Common functions in ML\n",
    "\n",
    "Let's dive in! 🚀\n",
    "\n",
    "## 1. Number Systems"
   ]
  },
  {
   "cell_type": "code",
   "execution_count": 4,
   "metadata": {
    "collapsed": true
   },
   "outputs": [],
   "source": [
    "import numpy as np"
   ]
  },
  {
   "cell_type": "markdown",
   "metadata": {},
   "source": [
    "### Boolean Domain: $\\mathbb{B}$ \n",
    "**Definition**: The set containing only two values: True (1) and False (0)\n",
    "\n",
    "**Usage in ML**: Binary classification, logical operations, boolean indexing\n",
    "\n",
    "**Examples**: \n",
    "- $\\mathbb{B} = \\{0, 1\\}$ or $\\{True, False\\}$\n",
    "- Used in: Decision trees, binary neural network outputs, mask operations"
   ]
  },
  {
   "cell_type": "code",
   "execution_count": 5,
   "metadata": {},
   "outputs": [
    {
     "data": {
      "text/plain": [
       "True"
      ]
     },
     "execution_count": 5,
     "metadata": {},
     "output_type": "execute_result"
    }
   ],
   "source": [
    "boolean = True\n",
    "boolean"
   ]
  },
  {
   "cell_type": "markdown",
   "metadata": {},
   "source": [
    "### Natural Numbers: $\\mathbb{N}$ \n",
    "**Definition**: Non-negative whole numbers starting from 0\n",
    "\n",
    "**Usage in ML**: Counting, indexing, discrete variables, epochs, iterations\n",
    "\n",
    "**Examples**: \n",
    "- $\\mathbb{N} = \\{0, 1, 2, 3, 4, 5, 6, 7, ...\\}$\n",
    "- Used in: Array indices, number of features, batch sizes, layer counts"
   ]
  },
  {
   "cell_type": "code",
   "execution_count": 11,
   "metadata": {},
   "outputs": [
    {
     "data": {
      "text/plain": [
       "1"
      ]
     },
     "execution_count": 11,
     "metadata": {},
     "output_type": "execute_result"
    }
   ],
   "source": [
    "natural = 1\n",
    "natural"
   ]
  },
  {
   "cell_type": "markdown",
   "metadata": {},
   "source": [
    "### Positive Integers: $\\mathbb{Z}^+$ \n",
    "**Definition**: Positive whole numbers excluding zero\n",
    "\n",
    "**Examples**: $\\mathbb{Z}^+ = \\{1, 2, 3, 4, 5, 6, 7, ...\\}$\n",
    "\n",
    "### Integer Numbers: $\\mathbb{Z}$\n",
    "**Definition**: All whole numbers including positive, negative, and zero\n",
    "\n",
    "**Usage in ML**: Labels in classification, coordinate systems, difference calculations\n",
    "\n",
    "**Examples**: \n",
    "- $\\mathbb{Z} = \\{..., -3, -2, -1, 0, 1, 2, 3, ...\\}$\n",
    "- Used in: Class labels, relative positions, signed gradients"
   ]
  },
  {
   "cell_type": "markdown",
   "metadata": {},
   "source": [
    "### Real Numbers: $\\mathbb{R}$ \n",
    "**Definition**: All numbers including rational and irrational numbers\n",
    "\n",
    "**Usage in ML**: Continuous variables, weights, biases, probabilities, loss values\n",
    "\n",
    "**Examples**: \n",
    "- $\\mathbb{R} = \\{..., -2.5, -1, 0, 0.333..., 1.414..., \\pi, e, ...\\}$\n",
    "- Used in: Neural network weights, feature values, optimization parameters\n",
    "\n",
    "### Complex Numbers: $\\mathbb{C}$\n",
    "**Definition**: Numbers with real and imaginary parts: $a + bi$ where $i = \\sqrt{-1}$\n",
    "\n",
    "**Usage in ML**: Signal processing, Fourier transforms, some advanced neural networks\n",
    "\n",
    "**Examples**: \n",
    "- $\\mathbb{C} = \\{a + bi : a, b \\in \\mathbb{R}\\}$\n",
    "- Used in: Complex-valued neural networks, frequency domain analysis"
   ]
  },
  {
   "cell_type": "code",
   "execution_count": 8,
   "metadata": {},
   "outputs": [
    {
     "data": {
      "text/plain": [
       "1.5"
      ]
     },
     "execution_count": 8,
     "metadata": {},
     "output_type": "execute_result"
    }
   ],
   "source": [
    "real_1 = 1.5\n",
    "real_1"
   ]
  },
  {
   "cell_type": "code",
   "execution_count": null,
   "metadata": {
    "collapsed": true
   },
   "outputs": [],
   "source": [
    "# Demonstrate complex numbers\n",
    "import matplotlib.pyplot as plt\n",
    "\n",
    "complex_num = 3 + 4j\n",
    "print(f\"Complex number: {complex_num}\")\n",
    "print(f\"Real part: {complex_num.real}\")\n",
    "print(f\"Imaginary part: {complex_num.imag}\")\n",
    "print(f\"Magnitude: {abs(complex_num)}\")\n",
    "\n",
    "# Visualize complex number\n",
    "fig, ax = plt.subplots(figsize=(6, 6))\n",
    "ax.arrow(0, 0, complex_num.real, complex_num.imag, head_width=0.2, head_length=0.2, fc='blue', ec='blue')\n",
    "ax.scatter(complex_num.real, complex_num.imag, color='red', s=100, zorder=5)\n",
    "ax.annotate(f'{complex_num}', (complex_num.real, complex_num.imag), xytext=(10, 10), \n",
    "            textcoords='offset points', fontsize=12)\n",
    "ax.grid(True, alpha=0.3)\n",
    "ax.set_xlabel('Real Part')\n",
    "ax.set_ylabel('Imaginary Part')\n",
    "ax.set_title('Complex Number Visualization')\n",
    "ax.set_aspect('equal')\n",
    "plt.show()"
   ]
  },
  {
   "cell_type": "markdown",
   "metadata": {},
   "source": [
    "## 2. Set Theory\n",
    "\n",
    "### Basic Set Notation\n",
    "\n",
    "**Set Definition**: $S = \\{x_1, x_2, x_3, ...\\}$ - A collection of distinct objects\n",
    "\n",
    "**Element Membership**: \n",
    "- $x \\in S$ - \"x is an element of set S\"\n",
    "- $x \\notin S$ - \"x is not an element of set S\"\n",
    "\n",
    "**Common Sets**:\n",
    "- Empty set: $\\emptyset$ or $\\{\\}$\n",
    "- Universal set: $U$ (contains all elements under consideration)\n",
    "\n",
    "### Set Operations\n",
    "\n",
    "**Union**: $A \\cup B$ - All elements in A or B (or both)\n",
    "**Intersection**: $A \\cap B$ - Elements in both A and B\n",
    "**Difference**: $A \\setminus B$ - Elements in A but not in B\n",
    "**Complement**: $A^c$ or $\\bar{A}$ - All elements not in A\n",
    "\n",
    "**Subset Relations**:\n",
    "- $A \\subseteq B$ - A is a subset of B\n",
    "- $A \\subset B$ - A is a proper subset of B\n",
    "- $A \\supseteq B$ - A is a superset of B\n",
    "\n",
    "### Cardinality\n",
    "**Definition**: $|S|$ or $\\#S$ - Number of elements in set S\n",
    "\n",
    "**Usage in ML**: Dataset size, vocabulary size, number of classes"
   ]
  },
  {
   "cell_type": "code",
   "execution_count": null,
   "metadata": {},
   "outputs": [],
   "source": [
    "# Set Theory Examples in Python\n",
    "\n",
    "# Define sets\n",
    "A = {1, 2, 3, 4, 5}\n",
    "B = {4, 5, 6, 7, 8}\n",
    "C = {1, 2, 3}\n",
    "\n",
    "print(\"Set Operations Examples:\")\n",
    "print(f\"A = {A}\")\n",
    "print(f\"B = {B}\")\n",
    "print(f\"C = {C}\")\n",
    "print()\n",
    "\n",
    "# Set operations\n",
    "print(\"Union (A ∪ B):\", A.union(B))\n",
    "print(\"Intersection (A ∩ B):\", A.intersection(B))\n",
    "print(\"Difference (A \\\\ B):\", A.difference(B))\n",
    "print(\"Symmetric Difference (A ⊕ B):\", A.symmetric_difference(B))\n",
    "print()\n",
    "\n",
    "# Subset relations\n",
    "print(\"Subset Relations:\")\n",
    "print(f\"C ⊆ A: {C.issubset(A)}\")\n",
    "print(f\"A ⊆ B: {A.issubset(B)}\")\n",
    "print(f\"A ⊇ C: {A.issuperset(C)}\")\n",
    "print()\n",
    "\n",
    "# Cardinality\n",
    "print(\"Cardinality:\")\n",
    "print(f\"|A| = {len(A)}\")\n",
    "print(f\"|B| = {len(B)}\")\n",
    "print(f\"|A ∪ B| = {len(A.union(B))}\")\n",
    "\n",
    "# ML Example: Training/Validation split\n",
    "all_data = set(range(1000))  # Dataset with 1000 samples\n",
    "train_set = set(range(800))  # First 800 for training\n",
    "val_set = all_data.difference(train_set)  # Remaining for validation\n",
    "\n",
    "print(f\"\\nML Example - Data Split:\")\n",
    "print(f\"Total samples: |D| = {len(all_data)}\")\n",
    "print(f\"Training samples: |D_train| = {len(train_set)}\")\n",
    "print(f\"Validation samples: |D_val| = {len(val_set)}\")\n",
    "print(f\"No overlap: D_train ∩ D_val = {train_set.intersection(val_set)}\")"
   ]
  },
  {
   "cell_type": "markdown",
   "metadata": {},
   "source": [
    "## 3. Linear Algebra Notation\n",
    "\n",
    "### Vectors\n",
    "\n",
    "**Column Vector**: $\\mathbf{v} = \\begin{pmatrix} v_1 \\\\ v_2 \\\\ \\vdots \\\\ v_n \\end{pmatrix}$ or $\\mathbf{v} = [v_1, v_2, ..., v_n]^T$\n",
    "\n",
    "**Row Vector**: $\\mathbf{v}^T = [v_1, v_2, ..., v_n]$\n",
    "\n",
    "**Vector Operations**:\n",
    "- **Dot Product**: $\\mathbf{a} \\cdot \\mathbf{b} = \\mathbf{a}^T\\mathbf{b} = \\sum_{i=1}^n a_i b_i$\n",
    "- **Cross Product**: $\\mathbf{a} \\times \\mathbf{b}$ (3D vectors only)\n",
    "- **Norm**: $\\|\\mathbf{v}\\|_p = \\left(\\sum_{i=1}^n |v_i|^p\\right)^{1/p}$\n",
    "  - $\\|\\mathbf{v}\\|_2$ = Euclidean norm (L2)\n",
    "  - $\\|\\mathbf{v}\\|_1$ = Manhattan norm (L1)\n",
    "  - $\\|\\mathbf{v}\\|_\\infty$ = Maximum norm\n",
    "\n",
    "### Matrices\n",
    "\n",
    "**Matrix Definition**: $\\mathbf{A} = \\begin{pmatrix} a_{11} & a_{12} & \\cdots & a_{1n} \\\\ a_{21} & a_{22} & \\cdots & a_{2n} \\\\ \\vdots & \\vdots & \\ddots & \\vdots \\\\ a_{m1} & a_{m2} & \\cdots & a_{mn} \\end{pmatrix}$\n",
    "\n",
    "**Matrix Operations**:\n",
    "- **Transpose**: $\\mathbf{A}^T$ - Flip rows and columns\n",
    "- **Inverse**: $\\mathbf{A}^{-1}$ - Matrix such that $\\mathbf{A}\\mathbf{A}^{-1} = \\mathbf{I}$\n",
    "- **Determinant**: $\\det(\\mathbf{A})$ or $|\\mathbf{A}|$\n",
    "- **Trace**: $\\text{tr}(\\mathbf{A}) = \\sum_{i=1}^n a_{ii}$ (sum of diagonal elements)\n",
    "\n",
    "**Special Matrices**:\n",
    "- **Identity Matrix**: $\\mathbf{I}$ - Diagonal matrix with 1s\n",
    "- **Zero Matrix**: $\\mathbf{0}$ - All elements are 0\n",
    "- **Diagonal Matrix**: $\\text{diag}(d_1, d_2, ..., d_n)$\n",
    "- **Symmetric Matrix**: $\\mathbf{A} = \\mathbf{A}^T$\n",
    "- **Orthogonal Matrix**: $\\mathbf{Q}^T\\mathbf{Q} = \\mathbf{I}$\n",
    "\n",
    "### Matrix Decompositions\n",
    "- **Eigendecomposition**: $\\mathbf{A} = \\mathbf{Q}\\mathbf{\\Lambda}\\mathbf{Q}^{-1}$\n",
    "- **SVD**: $\\mathbf{A} = \\mathbf{U}\\mathbf{\\Sigma}\\mathbf{V}^T$\n",
    "- **Cholesky**: $\\mathbf{A} = \\mathbf{L}\\mathbf{L}^T$ (for positive definite matrices)"
   ]
  }
 ],
 "metadata": {
  "kernelspec": {
   "display_name": "Python 3",
   "language": "python",
   "name": "python3"
  },
  "language_info": {
   "codemirror_mode": {
    "name": "ipython",
    "version": 3
   },
   "file_extension": ".py",
   "mimetype": "text/x-python",
   "name": "python",
   "nbconvert_exporter": "python",
   "pygments_lexer": "ipython3",
   "version": "3.6.3"
  }
 },
 "nbformat": 4,
 "nbformat_minor": 2
}
