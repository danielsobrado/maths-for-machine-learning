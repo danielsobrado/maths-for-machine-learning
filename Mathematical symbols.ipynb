Natural numbers \mathbb{N}
Boolean domain \mathbb{B} 
